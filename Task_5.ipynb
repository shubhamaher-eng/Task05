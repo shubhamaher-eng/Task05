{
  "nbformat": 4,
  "nbformat_minor": 0,
  "metadata": {
    "kernelspec": {
      "display_name": "Python 3",
      "language": "python",
      "name": "python3"
    },
    "language_info": {
      "codemirror_mode": {
        "name": "ipython",
        "version": 3
      },
      "file_extension": ".py",
      "mimetype": "text/x-python",
      "name": "python",
      "nbconvert_exporter": "python",
      "pygments_lexer": "ipython3",
      "version": "3.7.6"
    },
    "colab": {
      "name": "Task 4.ipynb",
      "provenance": []
    }
  },
  "cells": [
    {
      "cell_type": "markdown",
      "metadata": {
        "id": "6dGcNO0AYYD6"
      },
      "source": [
        "### By - Shubham Bhausaheb Aher"
      ]
    },
    {
      "cell_type": "markdown",
      "metadata": {
        "id": "rdlQ3iKiYYEA"
      },
      "source": [
        "## The Sparks Foundation - Data Science and Business Analytics"
      ]
    },
    {
      "cell_type": "markdown",
      "metadata": {
        "id": "JjEs6bexYYEB"
      },
      "source": [
        "### Task:5 Exploratory Data Analysis - Terrorism"
      ]
    },
    {
      "cell_type": "markdown",
      "metadata": {
        "id": "lYZkfbkyYYEC"
      },
      "source": [
        "### Statement: Perform ‘Exploratory Data Analysis’ on dataset ‘Global Terrorism’\n",
        "● As a security/defense analyst, try to find out the hot zone of terrorism.\n",
        "● What all security issues and insights you can derive by EDA?"
      ]
    },
    {
      "cell_type": "code",
      "metadata": {
        "id": "yi9y9EWpYYED"
      },
      "source": [
        ""
      ],
      "execution_count": null,
      "outputs": []
    },
    {
      "cell_type": "markdown",
      "metadata": {
        "id": "4alzGmomYYEE"
      },
      "source": [
        "#### Step:1 Importing libraries"
      ]
    },
    {
      "cell_type": "code",
      "metadata": {
        "id": "vQgmqVnBYYEF"
      },
      "source": [
        "import numpy as np\n",
        "import pandas as pd\n",
        "import matplotlib.pyplot as plt\n",
        "import seaborn as sns\n",
        "%matplotlib inline\n",
        "\n",
        "import warnings\n",
        "warnings.filterwarnings(action=\"ignore\")"
      ],
      "execution_count": null,
      "outputs": []
    },
    {
      "cell_type": "code",
      "metadata": {
        "id": "d-fIN9g4YYEF",
        "outputId": "d89329f5-3cdf-4cff-823a-0371de51f8ce"
      },
      "source": [
        "df = pd.read_csv(\"C:/Users/hp/Desktop/Data Science/DataSets/global terrorism.csv\",encoding=\"ISO-8859-1\")\n",
        "print(\"Dataset imported successfully!\")"
      ],
      "execution_count": null,
      "outputs": [
        {
          "output_type": "stream",
          "text": [
            "Dataset imported successfully!\n"
          ],
          "name": "stdout"
        }
      ]
    },
    {
      "cell_type": "code",
      "metadata": {
        "id": "JD8SP_BfYYEH",
        "outputId": "235db2a7-24a4-4cec-b72b-5bef2edde7c4"
      },
      "source": [
        "df.head()"
      ],
      "execution_count": null,
      "outputs": [
        {
          "output_type": "execute_result",
          "data": {
            "text/html": [
              "<div>\n",
              "<style scoped>\n",
              "    .dataframe tbody tr th:only-of-type {\n",
              "        vertical-align: middle;\n",
              "    }\n",
              "\n",
              "    .dataframe tbody tr th {\n",
              "        vertical-align: top;\n",
              "    }\n",
              "\n",
              "    .dataframe thead th {\n",
              "        text-align: right;\n",
              "    }\n",
              "</style>\n",
              "<table border=\"1\" class=\"dataframe\">\n",
              "  <thead>\n",
              "    <tr style=\"text-align: right;\">\n",
              "      <th></th>\n",
              "      <th>eventid</th>\n",
              "      <th>iyear</th>\n",
              "      <th>imonth</th>\n",
              "      <th>iday</th>\n",
              "      <th>approxdate</th>\n",
              "      <th>extended</th>\n",
              "      <th>resolution</th>\n",
              "      <th>country</th>\n",
              "      <th>country_txt</th>\n",
              "      <th>region</th>\n",
              "      <th>...</th>\n",
              "      <th>addnotes</th>\n",
              "      <th>scite1</th>\n",
              "      <th>scite2</th>\n",
              "      <th>scite3</th>\n",
              "      <th>dbsource</th>\n",
              "      <th>INT_LOG</th>\n",
              "      <th>INT_IDEO</th>\n",
              "      <th>INT_MISC</th>\n",
              "      <th>INT_ANY</th>\n",
              "      <th>related</th>\n",
              "    </tr>\n",
              "  </thead>\n",
              "  <tbody>\n",
              "    <tr>\n",
              "      <th>0</th>\n",
              "      <td>197000000001</td>\n",
              "      <td>1970</td>\n",
              "      <td>7</td>\n",
              "      <td>2</td>\n",
              "      <td>NaN</td>\n",
              "      <td>0</td>\n",
              "      <td>NaN</td>\n",
              "      <td>58</td>\n",
              "      <td>Dominican Republic</td>\n",
              "      <td>2</td>\n",
              "      <td>...</td>\n",
              "      <td>NaN</td>\n",
              "      <td>NaN</td>\n",
              "      <td>NaN</td>\n",
              "      <td>NaN</td>\n",
              "      <td>PGIS</td>\n",
              "      <td>0</td>\n",
              "      <td>0</td>\n",
              "      <td>0</td>\n",
              "      <td>0</td>\n",
              "      <td>NaN</td>\n",
              "    </tr>\n",
              "    <tr>\n",
              "      <th>1</th>\n",
              "      <td>197000000002</td>\n",
              "      <td>1970</td>\n",
              "      <td>0</td>\n",
              "      <td>0</td>\n",
              "      <td>NaN</td>\n",
              "      <td>0</td>\n",
              "      <td>NaN</td>\n",
              "      <td>130</td>\n",
              "      <td>Mexico</td>\n",
              "      <td>1</td>\n",
              "      <td>...</td>\n",
              "      <td>NaN</td>\n",
              "      <td>NaN</td>\n",
              "      <td>NaN</td>\n",
              "      <td>NaN</td>\n",
              "      <td>PGIS</td>\n",
              "      <td>0</td>\n",
              "      <td>1</td>\n",
              "      <td>1</td>\n",
              "      <td>1</td>\n",
              "      <td>NaN</td>\n",
              "    </tr>\n",
              "    <tr>\n",
              "      <th>2</th>\n",
              "      <td>197001000001</td>\n",
              "      <td>1970</td>\n",
              "      <td>1</td>\n",
              "      <td>0</td>\n",
              "      <td>NaN</td>\n",
              "      <td>0</td>\n",
              "      <td>NaN</td>\n",
              "      <td>160</td>\n",
              "      <td>Philippines</td>\n",
              "      <td>5</td>\n",
              "      <td>...</td>\n",
              "      <td>NaN</td>\n",
              "      <td>NaN</td>\n",
              "      <td>NaN</td>\n",
              "      <td>NaN</td>\n",
              "      <td>PGIS</td>\n",
              "      <td>-9</td>\n",
              "      <td>-9</td>\n",
              "      <td>1</td>\n",
              "      <td>1</td>\n",
              "      <td>NaN</td>\n",
              "    </tr>\n",
              "    <tr>\n",
              "      <th>3</th>\n",
              "      <td>197001000002</td>\n",
              "      <td>1970</td>\n",
              "      <td>1</td>\n",
              "      <td>0</td>\n",
              "      <td>NaN</td>\n",
              "      <td>0</td>\n",
              "      <td>NaN</td>\n",
              "      <td>78</td>\n",
              "      <td>Greece</td>\n",
              "      <td>8</td>\n",
              "      <td>...</td>\n",
              "      <td>NaN</td>\n",
              "      <td>NaN</td>\n",
              "      <td>NaN</td>\n",
              "      <td>NaN</td>\n",
              "      <td>PGIS</td>\n",
              "      <td>-9</td>\n",
              "      <td>-9</td>\n",
              "      <td>1</td>\n",
              "      <td>1</td>\n",
              "      <td>NaN</td>\n",
              "    </tr>\n",
              "    <tr>\n",
              "      <th>4</th>\n",
              "      <td>197001000003</td>\n",
              "      <td>1970</td>\n",
              "      <td>1</td>\n",
              "      <td>0</td>\n",
              "      <td>NaN</td>\n",
              "      <td>0</td>\n",
              "      <td>NaN</td>\n",
              "      <td>101</td>\n",
              "      <td>Japan</td>\n",
              "      <td>4</td>\n",
              "      <td>...</td>\n",
              "      <td>NaN</td>\n",
              "      <td>NaN</td>\n",
              "      <td>NaN</td>\n",
              "      <td>NaN</td>\n",
              "      <td>PGIS</td>\n",
              "      <td>-9</td>\n",
              "      <td>-9</td>\n",
              "      <td>1</td>\n",
              "      <td>1</td>\n",
              "      <td>NaN</td>\n",
              "    </tr>\n",
              "  </tbody>\n",
              "</table>\n",
              "<p>5 rows × 135 columns</p>\n",
              "</div>"
            ],
            "text/plain": [
              "        eventid  iyear  imonth  iday approxdate  extended resolution  country  \\\n",
              "0  197000000001   1970       7     2        NaN         0        NaN       58   \n",
              "1  197000000002   1970       0     0        NaN         0        NaN      130   \n",
              "2  197001000001   1970       1     0        NaN         0        NaN      160   \n",
              "3  197001000002   1970       1     0        NaN         0        NaN       78   \n",
              "4  197001000003   1970       1     0        NaN         0        NaN      101   \n",
              "\n",
              "          country_txt  region  ... addnotes scite1 scite2  scite3  dbsource  \\\n",
              "0  Dominican Republic       2  ...      NaN    NaN    NaN     NaN      PGIS   \n",
              "1              Mexico       1  ...      NaN    NaN    NaN     NaN      PGIS   \n",
              "2         Philippines       5  ...      NaN    NaN    NaN     NaN      PGIS   \n",
              "3              Greece       8  ...      NaN    NaN    NaN     NaN      PGIS   \n",
              "4               Japan       4  ...      NaN    NaN    NaN     NaN      PGIS   \n",
              "\n",
              "   INT_LOG  INT_IDEO INT_MISC INT_ANY  related  \n",
              "0        0         0        0       0      NaN  \n",
              "1        0         1        1       1      NaN  \n",
              "2       -9        -9        1       1      NaN  \n",
              "3       -9        -9        1       1      NaN  \n",
              "4       -9        -9        1       1      NaN  \n",
              "\n",
              "[5 rows x 135 columns]"
            ]
          },
          "metadata": {
            "tags": []
          },
          "execution_count": 72
        }
      ]
    },
    {
      "cell_type": "markdown",
      "metadata": {
        "id": "TUDbYOEtYYEI"
      },
      "source": [
        "#### Step:2 Now, let's apply the preprocessing techniques to clean the data."
      ]
    },
    {
      "cell_type": "code",
      "metadata": {
        "id": "qINQD3F_YYEJ",
        "outputId": "b262779f-9464-4c03-8534-f549632d7b03"
      },
      "source": [
        "df.info()"
      ],
      "execution_count": null,
      "outputs": [
        {
          "output_type": "stream",
          "text": [
            "<class 'pandas.core.frame.DataFrame'>\n",
            "RangeIndex: 181691 entries, 0 to 181690\n",
            "Columns: 135 entries, eventid to related\n",
            "dtypes: float64(55), int64(22), object(58)\n",
            "memory usage: 187.1+ MB\n"
          ],
          "name": "stdout"
        }
      ]
    },
    {
      "cell_type": "code",
      "metadata": {
        "id": "j7qBg9-EYYEK",
        "outputId": "6b2606b0-243d-4b7e-8e05-b3841a6caf01"
      },
      "source": [
        "# renaming columns \n",
        "\n",
        "df.rename(columns={'iyear':'Year','imonth':'Month','extended':'Extended','iday':'Day','country_txt':'Country',\n",
        "                   'provstate':'State','region_txt':'Region','attacktype1_txt':'AttackType','target1':'Target',\n",
        "                   'nkill':'Killed','nwound':'Wounded','summary':'Summary','gname':'Group','targtype1_txt':'Target_type',\n",
        "                   'weaptype1_txt':'Weapon_type','motive':'Motive','city':'City','latitude':'Latitude','longitude':'Longitude'},inplace=True)\n",
        "df.head()"
      ],
      "execution_count": null,
      "outputs": [
        {
          "output_type": "execute_result",
          "data": {
            "text/html": [
              "<div>\n",
              "<style scoped>\n",
              "    .dataframe tbody tr th:only-of-type {\n",
              "        vertical-align: middle;\n",
              "    }\n",
              "\n",
              "    .dataframe tbody tr th {\n",
              "        vertical-align: top;\n",
              "    }\n",
              "\n",
              "    .dataframe thead th {\n",
              "        text-align: right;\n",
              "    }\n",
              "</style>\n",
              "<table border=\"1\" class=\"dataframe\">\n",
              "  <thead>\n",
              "    <tr style=\"text-align: right;\">\n",
              "      <th></th>\n",
              "      <th>eventid</th>\n",
              "      <th>Year</th>\n",
              "      <th>Month</th>\n",
              "      <th>Day</th>\n",
              "      <th>approxdate</th>\n",
              "      <th>Extended</th>\n",
              "      <th>resolution</th>\n",
              "      <th>country</th>\n",
              "      <th>Country</th>\n",
              "      <th>region</th>\n",
              "      <th>...</th>\n",
              "      <th>addnotes</th>\n",
              "      <th>scite1</th>\n",
              "      <th>scite2</th>\n",
              "      <th>scite3</th>\n",
              "      <th>dbsource</th>\n",
              "      <th>INT_LOG</th>\n",
              "      <th>INT_IDEO</th>\n",
              "      <th>INT_MISC</th>\n",
              "      <th>INT_ANY</th>\n",
              "      <th>related</th>\n",
              "    </tr>\n",
              "  </thead>\n",
              "  <tbody>\n",
              "    <tr>\n",
              "      <th>0</th>\n",
              "      <td>197000000001</td>\n",
              "      <td>1970</td>\n",
              "      <td>7</td>\n",
              "      <td>2</td>\n",
              "      <td>NaN</td>\n",
              "      <td>0</td>\n",
              "      <td>NaN</td>\n",
              "      <td>58</td>\n",
              "      <td>Dominican Republic</td>\n",
              "      <td>2</td>\n",
              "      <td>...</td>\n",
              "      <td>NaN</td>\n",
              "      <td>NaN</td>\n",
              "      <td>NaN</td>\n",
              "      <td>NaN</td>\n",
              "      <td>PGIS</td>\n",
              "      <td>0</td>\n",
              "      <td>0</td>\n",
              "      <td>0</td>\n",
              "      <td>0</td>\n",
              "      <td>NaN</td>\n",
              "    </tr>\n",
              "    <tr>\n",
              "      <th>1</th>\n",
              "      <td>197000000002</td>\n",
              "      <td>1970</td>\n",
              "      <td>0</td>\n",
              "      <td>0</td>\n",
              "      <td>NaN</td>\n",
              "      <td>0</td>\n",
              "      <td>NaN</td>\n",
              "      <td>130</td>\n",
              "      <td>Mexico</td>\n",
              "      <td>1</td>\n",
              "      <td>...</td>\n",
              "      <td>NaN</td>\n",
              "      <td>NaN</td>\n",
              "      <td>NaN</td>\n",
              "      <td>NaN</td>\n",
              "      <td>PGIS</td>\n",
              "      <td>0</td>\n",
              "      <td>1</td>\n",
              "      <td>1</td>\n",
              "      <td>1</td>\n",
              "      <td>NaN</td>\n",
              "    </tr>\n",
              "    <tr>\n",
              "      <th>2</th>\n",
              "      <td>197001000001</td>\n",
              "      <td>1970</td>\n",
              "      <td>1</td>\n",
              "      <td>0</td>\n",
              "      <td>NaN</td>\n",
              "      <td>0</td>\n",
              "      <td>NaN</td>\n",
              "      <td>160</td>\n",
              "      <td>Philippines</td>\n",
              "      <td>5</td>\n",
              "      <td>...</td>\n",
              "      <td>NaN</td>\n",
              "      <td>NaN</td>\n",
              "      <td>NaN</td>\n",
              "      <td>NaN</td>\n",
              "      <td>PGIS</td>\n",
              "      <td>-9</td>\n",
              "      <td>-9</td>\n",
              "      <td>1</td>\n",
              "      <td>1</td>\n",
              "      <td>NaN</td>\n",
              "    </tr>\n",
              "    <tr>\n",
              "      <th>3</th>\n",
              "      <td>197001000002</td>\n",
              "      <td>1970</td>\n",
              "      <td>1</td>\n",
              "      <td>0</td>\n",
              "      <td>NaN</td>\n",
              "      <td>0</td>\n",
              "      <td>NaN</td>\n",
              "      <td>78</td>\n",
              "      <td>Greece</td>\n",
              "      <td>8</td>\n",
              "      <td>...</td>\n",
              "      <td>NaN</td>\n",
              "      <td>NaN</td>\n",
              "      <td>NaN</td>\n",
              "      <td>NaN</td>\n",
              "      <td>PGIS</td>\n",
              "      <td>-9</td>\n",
              "      <td>-9</td>\n",
              "      <td>1</td>\n",
              "      <td>1</td>\n",
              "      <td>NaN</td>\n",
              "    </tr>\n",
              "    <tr>\n",
              "      <th>4</th>\n",
              "      <td>197001000003</td>\n",
              "      <td>1970</td>\n",
              "      <td>1</td>\n",
              "      <td>0</td>\n",
              "      <td>NaN</td>\n",
              "      <td>0</td>\n",
              "      <td>NaN</td>\n",
              "      <td>101</td>\n",
              "      <td>Japan</td>\n",
              "      <td>4</td>\n",
              "      <td>...</td>\n",
              "      <td>NaN</td>\n",
              "      <td>NaN</td>\n",
              "      <td>NaN</td>\n",
              "      <td>NaN</td>\n",
              "      <td>PGIS</td>\n",
              "      <td>-9</td>\n",
              "      <td>-9</td>\n",
              "      <td>1</td>\n",
              "      <td>1</td>\n",
              "      <td>NaN</td>\n",
              "    </tr>\n",
              "  </tbody>\n",
              "</table>\n",
              "<p>5 rows × 135 columns</p>\n",
              "</div>"
            ],
            "text/plain": [
              "        eventid  Year  Month  Day approxdate  Extended resolution  country  \\\n",
              "0  197000000001  1970      7    2        NaN         0        NaN       58   \n",
              "1  197000000002  1970      0    0        NaN         0        NaN      130   \n",
              "2  197001000001  1970      1    0        NaN         0        NaN      160   \n",
              "3  197001000002  1970      1    0        NaN         0        NaN       78   \n",
              "4  197001000003  1970      1    0        NaN         0        NaN      101   \n",
              "\n",
              "              Country  region  ... addnotes scite1 scite2  scite3  dbsource  \\\n",
              "0  Dominican Republic       2  ...      NaN    NaN    NaN     NaN      PGIS   \n",
              "1              Mexico       1  ...      NaN    NaN    NaN     NaN      PGIS   \n",
              "2         Philippines       5  ...      NaN    NaN    NaN     NaN      PGIS   \n",
              "3              Greece       8  ...      NaN    NaN    NaN     NaN      PGIS   \n",
              "4               Japan       4  ...      NaN    NaN    NaN     NaN      PGIS   \n",
              "\n",
              "   INT_LOG  INT_IDEO INT_MISC INT_ANY  related  \n",
              "0        0         0        0       0      NaN  \n",
              "1        0         1        1       1      NaN  \n",
              "2       -9        -9        1       1      NaN  \n",
              "3       -9        -9        1       1      NaN  \n",
              "4       -9        -9        1       1      NaN  \n",
              "\n",
              "[5 rows x 135 columns]"
            ]
          },
          "metadata": {
            "tags": []
          },
          "execution_count": 74
        }
      ]
    },
    {
      "cell_type": "code",
      "metadata": {
        "id": "x6M2jYkwYYEK",
        "outputId": "699a8797-80ed-41f0-ee24-6becec2c7c0c"
      },
      "source": [
        "#deleting unnecessary columns\n",
        "\n",
        "df = df[['Year','Month','Extended','Day','Country','State','Region','City','Latitude','Longitude',\n",
        "                 'AttackType','Killed','Wounded','Target','Summary','Group','Target_type','Weapon_type','Motive']]\n",
        "df.head()"
      ],
      "execution_count": null,
      "outputs": [
        {
          "output_type": "execute_result",
          "data": {
            "text/html": [
              "<div>\n",
              "<style scoped>\n",
              "    .dataframe tbody tr th:only-of-type {\n",
              "        vertical-align: middle;\n",
              "    }\n",
              "\n",
              "    .dataframe tbody tr th {\n",
              "        vertical-align: top;\n",
              "    }\n",
              "\n",
              "    .dataframe thead th {\n",
              "        text-align: right;\n",
              "    }\n",
              "</style>\n",
              "<table border=\"1\" class=\"dataframe\">\n",
              "  <thead>\n",
              "    <tr style=\"text-align: right;\">\n",
              "      <th></th>\n",
              "      <th>Year</th>\n",
              "      <th>Month</th>\n",
              "      <th>Extended</th>\n",
              "      <th>Day</th>\n",
              "      <th>Country</th>\n",
              "      <th>State</th>\n",
              "      <th>Region</th>\n",
              "      <th>City</th>\n",
              "      <th>Latitude</th>\n",
              "      <th>Longitude</th>\n",
              "      <th>AttackType</th>\n",
              "      <th>Killed</th>\n",
              "      <th>Wounded</th>\n",
              "      <th>Target</th>\n",
              "      <th>Summary</th>\n",
              "      <th>Group</th>\n",
              "      <th>Target_type</th>\n",
              "      <th>Weapon_type</th>\n",
              "      <th>Motive</th>\n",
              "    </tr>\n",
              "  </thead>\n",
              "  <tbody>\n",
              "    <tr>\n",
              "      <th>0</th>\n",
              "      <td>1970</td>\n",
              "      <td>7</td>\n",
              "      <td>0</td>\n",
              "      <td>2</td>\n",
              "      <td>Dominican Republic</td>\n",
              "      <td>NaN</td>\n",
              "      <td>Central America &amp; Caribbean</td>\n",
              "      <td>Santo Domingo</td>\n",
              "      <td>18.456792</td>\n",
              "      <td>-69.951164</td>\n",
              "      <td>Assassination</td>\n",
              "      <td>1.0</td>\n",
              "      <td>0.0</td>\n",
              "      <td>Julio Guzman</td>\n",
              "      <td>NaN</td>\n",
              "      <td>MANO-D</td>\n",
              "      <td>Private Citizens &amp; Property</td>\n",
              "      <td>Unknown</td>\n",
              "      <td>NaN</td>\n",
              "    </tr>\n",
              "    <tr>\n",
              "      <th>1</th>\n",
              "      <td>1970</td>\n",
              "      <td>0</td>\n",
              "      <td>0</td>\n",
              "      <td>0</td>\n",
              "      <td>Mexico</td>\n",
              "      <td>Federal</td>\n",
              "      <td>North America</td>\n",
              "      <td>Mexico city</td>\n",
              "      <td>19.371887</td>\n",
              "      <td>-99.086624</td>\n",
              "      <td>Hostage Taking (Kidnapping)</td>\n",
              "      <td>0.0</td>\n",
              "      <td>0.0</td>\n",
              "      <td>Nadine Chaval, daughter</td>\n",
              "      <td>NaN</td>\n",
              "      <td>23rd of September Communist League</td>\n",
              "      <td>Government (Diplomatic)</td>\n",
              "      <td>Unknown</td>\n",
              "      <td>NaN</td>\n",
              "    </tr>\n",
              "    <tr>\n",
              "      <th>2</th>\n",
              "      <td>1970</td>\n",
              "      <td>1</td>\n",
              "      <td>0</td>\n",
              "      <td>0</td>\n",
              "      <td>Philippines</td>\n",
              "      <td>Tarlac</td>\n",
              "      <td>Southeast Asia</td>\n",
              "      <td>Unknown</td>\n",
              "      <td>15.478598</td>\n",
              "      <td>120.599741</td>\n",
              "      <td>Assassination</td>\n",
              "      <td>1.0</td>\n",
              "      <td>0.0</td>\n",
              "      <td>Employee</td>\n",
              "      <td>NaN</td>\n",
              "      <td>Unknown</td>\n",
              "      <td>Journalists &amp; Media</td>\n",
              "      <td>Unknown</td>\n",
              "      <td>NaN</td>\n",
              "    </tr>\n",
              "    <tr>\n",
              "      <th>3</th>\n",
              "      <td>1970</td>\n",
              "      <td>1</td>\n",
              "      <td>0</td>\n",
              "      <td>0</td>\n",
              "      <td>Greece</td>\n",
              "      <td>Attica</td>\n",
              "      <td>Western Europe</td>\n",
              "      <td>Athens</td>\n",
              "      <td>37.997490</td>\n",
              "      <td>23.762728</td>\n",
              "      <td>Bombing/Explosion</td>\n",
              "      <td>NaN</td>\n",
              "      <td>NaN</td>\n",
              "      <td>U.S. Embassy</td>\n",
              "      <td>NaN</td>\n",
              "      <td>Unknown</td>\n",
              "      <td>Government (Diplomatic)</td>\n",
              "      <td>Explosives</td>\n",
              "      <td>NaN</td>\n",
              "    </tr>\n",
              "    <tr>\n",
              "      <th>4</th>\n",
              "      <td>1970</td>\n",
              "      <td>1</td>\n",
              "      <td>0</td>\n",
              "      <td>0</td>\n",
              "      <td>Japan</td>\n",
              "      <td>Fukouka</td>\n",
              "      <td>East Asia</td>\n",
              "      <td>Fukouka</td>\n",
              "      <td>33.580412</td>\n",
              "      <td>130.396361</td>\n",
              "      <td>Facility/Infrastructure Attack</td>\n",
              "      <td>NaN</td>\n",
              "      <td>NaN</td>\n",
              "      <td>U.S. Consulate</td>\n",
              "      <td>NaN</td>\n",
              "      <td>Unknown</td>\n",
              "      <td>Government (Diplomatic)</td>\n",
              "      <td>Incendiary</td>\n",
              "      <td>NaN</td>\n",
              "    </tr>\n",
              "  </tbody>\n",
              "</table>\n",
              "</div>"
            ],
            "text/plain": [
              "   Year  Month  Extended  Day             Country    State  \\\n",
              "0  1970      7         0    2  Dominican Republic      NaN   \n",
              "1  1970      0         0    0              Mexico  Federal   \n",
              "2  1970      1         0    0         Philippines   Tarlac   \n",
              "3  1970      1         0    0              Greece   Attica   \n",
              "4  1970      1         0    0               Japan  Fukouka   \n",
              "\n",
              "                        Region           City   Latitude   Longitude  \\\n",
              "0  Central America & Caribbean  Santo Domingo  18.456792  -69.951164   \n",
              "1                North America    Mexico city  19.371887  -99.086624   \n",
              "2               Southeast Asia        Unknown  15.478598  120.599741   \n",
              "3               Western Europe         Athens  37.997490   23.762728   \n",
              "4                    East Asia        Fukouka  33.580412  130.396361   \n",
              "\n",
              "                       AttackType  Killed  Wounded                   Target  \\\n",
              "0                   Assassination     1.0      0.0             Julio Guzman   \n",
              "1     Hostage Taking (Kidnapping)     0.0      0.0  Nadine Chaval, daughter   \n",
              "2                   Assassination     1.0      0.0                 Employee   \n",
              "3               Bombing/Explosion     NaN      NaN             U.S. Embassy   \n",
              "4  Facility/Infrastructure Attack     NaN      NaN           U.S. Consulate   \n",
              "\n",
              "  Summary                               Group                  Target_type  \\\n",
              "0     NaN                              MANO-D  Private Citizens & Property   \n",
              "1     NaN  23rd of September Communist League      Government (Diplomatic)   \n",
              "2     NaN                             Unknown          Journalists & Media   \n",
              "3     NaN                             Unknown      Government (Diplomatic)   \n",
              "4     NaN                             Unknown      Government (Diplomatic)   \n",
              "\n",
              "  Weapon_type Motive  \n",
              "0     Unknown    NaN  \n",
              "1     Unknown    NaN  \n",
              "2     Unknown    NaN  \n",
              "3  Explosives    NaN  \n",
              "4  Incendiary    NaN  "
            ]
          },
          "metadata": {
            "tags": []
          },
          "execution_count": 75
        }
      ]
    },
    {
      "cell_type": "code",
      "metadata": {
        "id": "H41XK3kcYYEL",
        "outputId": "23d32838-2865-47f4-c7f3-58d9a2257a8f"
      },
      "source": [
        "#checking the null values\n",
        "\n",
        "df.isnull().sum()"
      ],
      "execution_count": null,
      "outputs": [
        {
          "output_type": "execute_result",
          "data": {
            "text/plain": [
              "Year                0\n",
              "Month               0\n",
              "Extended            0\n",
              "Day                 0\n",
              "Country             0\n",
              "State             421\n",
              "Region              0\n",
              "City              434\n",
              "Latitude         4556\n",
              "Longitude        4557\n",
              "AttackType          0\n",
              "Killed          10313\n",
              "Wounded         16311\n",
              "Target            636\n",
              "Summary         66129\n",
              "Group               0\n",
              "Target_type         0\n",
              "Weapon_type         0\n",
              "Motive         131130\n",
              "dtype: int64"
            ]
          },
          "metadata": {
            "tags": []
          },
          "execution_count": 76
        }
      ]
    },
    {
      "cell_type": "code",
      "metadata": {
        "scrolled": true,
        "id": "l_tO-kzCYYEM",
        "outputId": "2d8aadd5-58d1-40e7-dca0-c51f2048db41"
      },
      "source": [
        "#droping the null values\n",
        "\n",
        "df.dropna(axis=1 ,how=\"all\")\n",
        "df.head()"
      ],
      "execution_count": null,
      "outputs": [
        {
          "output_type": "execute_result",
          "data": {
            "text/html": [
              "<div>\n",
              "<style scoped>\n",
              "    .dataframe tbody tr th:only-of-type {\n",
              "        vertical-align: middle;\n",
              "    }\n",
              "\n",
              "    .dataframe tbody tr th {\n",
              "        vertical-align: top;\n",
              "    }\n",
              "\n",
              "    .dataframe thead th {\n",
              "        text-align: right;\n",
              "    }\n",
              "</style>\n",
              "<table border=\"1\" class=\"dataframe\">\n",
              "  <thead>\n",
              "    <tr style=\"text-align: right;\">\n",
              "      <th></th>\n",
              "      <th>Year</th>\n",
              "      <th>Month</th>\n",
              "      <th>Extended</th>\n",
              "      <th>Day</th>\n",
              "      <th>Country</th>\n",
              "      <th>State</th>\n",
              "      <th>Region</th>\n",
              "      <th>City</th>\n",
              "      <th>Latitude</th>\n",
              "      <th>Longitude</th>\n",
              "      <th>AttackType</th>\n",
              "      <th>Killed</th>\n",
              "      <th>Wounded</th>\n",
              "      <th>Target</th>\n",
              "      <th>Summary</th>\n",
              "      <th>Group</th>\n",
              "      <th>Target_type</th>\n",
              "      <th>Weapon_type</th>\n",
              "      <th>Motive</th>\n",
              "    </tr>\n",
              "  </thead>\n",
              "  <tbody>\n",
              "    <tr>\n",
              "      <th>0</th>\n",
              "      <td>1970</td>\n",
              "      <td>7</td>\n",
              "      <td>0</td>\n",
              "      <td>2</td>\n",
              "      <td>Dominican Republic</td>\n",
              "      <td>NaN</td>\n",
              "      <td>Central America &amp; Caribbean</td>\n",
              "      <td>Santo Domingo</td>\n",
              "      <td>18.456792</td>\n",
              "      <td>-69.951164</td>\n",
              "      <td>Assassination</td>\n",
              "      <td>1.0</td>\n",
              "      <td>0.0</td>\n",
              "      <td>Julio Guzman</td>\n",
              "      <td>NaN</td>\n",
              "      <td>MANO-D</td>\n",
              "      <td>Private Citizens &amp; Property</td>\n",
              "      <td>Unknown</td>\n",
              "      <td>NaN</td>\n",
              "    </tr>\n",
              "    <tr>\n",
              "      <th>1</th>\n",
              "      <td>1970</td>\n",
              "      <td>0</td>\n",
              "      <td>0</td>\n",
              "      <td>0</td>\n",
              "      <td>Mexico</td>\n",
              "      <td>Federal</td>\n",
              "      <td>North America</td>\n",
              "      <td>Mexico city</td>\n",
              "      <td>19.371887</td>\n",
              "      <td>-99.086624</td>\n",
              "      <td>Hostage Taking (Kidnapping)</td>\n",
              "      <td>0.0</td>\n",
              "      <td>0.0</td>\n",
              "      <td>Nadine Chaval, daughter</td>\n",
              "      <td>NaN</td>\n",
              "      <td>23rd of September Communist League</td>\n",
              "      <td>Government (Diplomatic)</td>\n",
              "      <td>Unknown</td>\n",
              "      <td>NaN</td>\n",
              "    </tr>\n",
              "    <tr>\n",
              "      <th>2</th>\n",
              "      <td>1970</td>\n",
              "      <td>1</td>\n",
              "      <td>0</td>\n",
              "      <td>0</td>\n",
              "      <td>Philippines</td>\n",
              "      <td>Tarlac</td>\n",
              "      <td>Southeast Asia</td>\n",
              "      <td>Unknown</td>\n",
              "      <td>15.478598</td>\n",
              "      <td>120.599741</td>\n",
              "      <td>Assassination</td>\n",
              "      <td>1.0</td>\n",
              "      <td>0.0</td>\n",
              "      <td>Employee</td>\n",
              "      <td>NaN</td>\n",
              "      <td>Unknown</td>\n",
              "      <td>Journalists &amp; Media</td>\n",
              "      <td>Unknown</td>\n",
              "      <td>NaN</td>\n",
              "    </tr>\n",
              "    <tr>\n",
              "      <th>3</th>\n",
              "      <td>1970</td>\n",
              "      <td>1</td>\n",
              "      <td>0</td>\n",
              "      <td>0</td>\n",
              "      <td>Greece</td>\n",
              "      <td>Attica</td>\n",
              "      <td>Western Europe</td>\n",
              "      <td>Athens</td>\n",
              "      <td>37.997490</td>\n",
              "      <td>23.762728</td>\n",
              "      <td>Bombing/Explosion</td>\n",
              "      <td>NaN</td>\n",
              "      <td>NaN</td>\n",
              "      <td>U.S. Embassy</td>\n",
              "      <td>NaN</td>\n",
              "      <td>Unknown</td>\n",
              "      <td>Government (Diplomatic)</td>\n",
              "      <td>Explosives</td>\n",
              "      <td>NaN</td>\n",
              "    </tr>\n",
              "    <tr>\n",
              "      <th>4</th>\n",
              "      <td>1970</td>\n",
              "      <td>1</td>\n",
              "      <td>0</td>\n",
              "      <td>0</td>\n",
              "      <td>Japan</td>\n",
              "      <td>Fukouka</td>\n",
              "      <td>East Asia</td>\n",
              "      <td>Fukouka</td>\n",
              "      <td>33.580412</td>\n",
              "      <td>130.396361</td>\n",
              "      <td>Facility/Infrastructure Attack</td>\n",
              "      <td>NaN</td>\n",
              "      <td>NaN</td>\n",
              "      <td>U.S. Consulate</td>\n",
              "      <td>NaN</td>\n",
              "      <td>Unknown</td>\n",
              "      <td>Government (Diplomatic)</td>\n",
              "      <td>Incendiary</td>\n",
              "      <td>NaN</td>\n",
              "    </tr>\n",
              "  </tbody>\n",
              "</table>\n",
              "</div>"
            ],
            "text/plain": [
              "   Year  Month  Extended  Day             Country    State  \\\n",
              "0  1970      7         0    2  Dominican Republic      NaN   \n",
              "1  1970      0         0    0              Mexico  Federal   \n",
              "2  1970      1         0    0         Philippines   Tarlac   \n",
              "3  1970      1         0    0              Greece   Attica   \n",
              "4  1970      1         0    0               Japan  Fukouka   \n",
              "\n",
              "                        Region           City   Latitude   Longitude  \\\n",
              "0  Central America & Caribbean  Santo Domingo  18.456792  -69.951164   \n",
              "1                North America    Mexico city  19.371887  -99.086624   \n",
              "2               Southeast Asia        Unknown  15.478598  120.599741   \n",
              "3               Western Europe         Athens  37.997490   23.762728   \n",
              "4                    East Asia        Fukouka  33.580412  130.396361   \n",
              "\n",
              "                       AttackType  Killed  Wounded                   Target  \\\n",
              "0                   Assassination     1.0      0.0             Julio Guzman   \n",
              "1     Hostage Taking (Kidnapping)     0.0      0.0  Nadine Chaval, daughter   \n",
              "2                   Assassination     1.0      0.0                 Employee   \n",
              "3               Bombing/Explosion     NaN      NaN             U.S. Embassy   \n",
              "4  Facility/Infrastructure Attack     NaN      NaN           U.S. Consulate   \n",
              "\n",
              "  Summary                               Group                  Target_type  \\\n",
              "0     NaN                              MANO-D  Private Citizens & Property   \n",
              "1     NaN  23rd of September Communist League      Government (Diplomatic)   \n",
              "2     NaN                             Unknown          Journalists & Media   \n",
              "3     NaN                             Unknown      Government (Diplomatic)   \n",
              "4     NaN                             Unknown      Government (Diplomatic)   \n",
              "\n",
              "  Weapon_type Motive  \n",
              "0     Unknown    NaN  \n",
              "1     Unknown    NaN  \n",
              "2     Unknown    NaN  \n",
              "3  Explosives    NaN  \n",
              "4  Incendiary    NaN  "
            ]
          },
          "metadata": {
            "tags": []
          },
          "execution_count": 84
        }
      ]
    },
    {
      "cell_type": "code",
      "metadata": {
        "scrolled": true,
        "id": "nI-_0rgcYYEM",
        "outputId": "b3df060c-7a51-409f-c6dc-05f34ef2276e"
      },
      "source": [
        "df.info()"
      ],
      "execution_count": null,
      "outputs": [
        {
          "output_type": "stream",
          "text": [
            "<class 'pandas.core.frame.DataFrame'>\n",
            "RangeIndex: 181691 entries, 0 to 181690\n",
            "Data columns (total 19 columns):\n",
            " #   Column       Non-Null Count   Dtype  \n",
            "---  ------       --------------   -----  \n",
            " 0   Year         181691 non-null  int64  \n",
            " 1   Month        181691 non-null  int64  \n",
            " 2   Extended     181691 non-null  int64  \n",
            " 3   Day          181691 non-null  int64  \n",
            " 4   Country      181691 non-null  object \n",
            " 5   State        181270 non-null  object \n",
            " 6   Region       181691 non-null  object \n",
            " 7   City         181257 non-null  object \n",
            " 8   Latitude     177135 non-null  float64\n",
            " 9   Longitude    177134 non-null  float64\n",
            " 10  AttackType   181691 non-null  object \n",
            " 11  Killed       171378 non-null  float64\n",
            " 12  Wounded      165380 non-null  float64\n",
            " 13  Target       181055 non-null  object \n",
            " 14  Summary      115562 non-null  object \n",
            " 15  Group        181691 non-null  object \n",
            " 16  Target_type  181691 non-null  object \n",
            " 17  Weapon_type  181691 non-null  object \n",
            " 18  Motive       50561 non-null   object \n",
            "dtypes: float64(4), int64(4), object(11)\n",
            "memory usage: 26.3+ MB\n"
          ],
          "name": "stdout"
        }
      ]
    },
    {
      "cell_type": "code",
      "metadata": {
        "scrolled": true,
        "id": "jxTyVCUbYYEN",
        "outputId": "17da5289-cbab-45b6-aa8f-08ad4b2daf3d"
      },
      "source": [
        "df.head()"
      ],
      "execution_count": null,
      "outputs": [
        {
          "output_type": "execute_result",
          "data": {
            "text/html": [
              "<div>\n",
              "<style scoped>\n",
              "    .dataframe tbody tr th:only-of-type {\n",
              "        vertical-align: middle;\n",
              "    }\n",
              "\n",
              "    .dataframe tbody tr th {\n",
              "        vertical-align: top;\n",
              "    }\n",
              "\n",
              "    .dataframe thead th {\n",
              "        text-align: right;\n",
              "    }\n",
              "</style>\n",
              "<table border=\"1\" class=\"dataframe\">\n",
              "  <thead>\n",
              "    <tr style=\"text-align: right;\">\n",
              "      <th></th>\n",
              "      <th>Year</th>\n",
              "      <th>Month</th>\n",
              "      <th>Extended</th>\n",
              "      <th>Day</th>\n",
              "      <th>Country</th>\n",
              "      <th>State</th>\n",
              "      <th>Region</th>\n",
              "      <th>City</th>\n",
              "      <th>Latitude</th>\n",
              "      <th>Longitude</th>\n",
              "      <th>AttackType</th>\n",
              "      <th>Killed</th>\n",
              "      <th>Wounded</th>\n",
              "      <th>Target</th>\n",
              "      <th>Summary</th>\n",
              "      <th>Group</th>\n",
              "      <th>Target_type</th>\n",
              "      <th>Weapon_type</th>\n",
              "      <th>Motive</th>\n",
              "    </tr>\n",
              "  </thead>\n",
              "  <tbody>\n",
              "    <tr>\n",
              "      <th>0</th>\n",
              "      <td>1970</td>\n",
              "      <td>7</td>\n",
              "      <td>0</td>\n",
              "      <td>2</td>\n",
              "      <td>Dominican Republic</td>\n",
              "      <td>NaN</td>\n",
              "      <td>Central America &amp; Caribbean</td>\n",
              "      <td>Santo Domingo</td>\n",
              "      <td>18.456792</td>\n",
              "      <td>-69.951164</td>\n",
              "      <td>Assassination</td>\n",
              "      <td>1.0</td>\n",
              "      <td>0.0</td>\n",
              "      <td>Julio Guzman</td>\n",
              "      <td>NaN</td>\n",
              "      <td>MANO-D</td>\n",
              "      <td>Private Citizens &amp; Property</td>\n",
              "      <td>Unknown</td>\n",
              "      <td>NaN</td>\n",
              "    </tr>\n",
              "    <tr>\n",
              "      <th>1</th>\n",
              "      <td>1970</td>\n",
              "      <td>0</td>\n",
              "      <td>0</td>\n",
              "      <td>0</td>\n",
              "      <td>Mexico</td>\n",
              "      <td>Federal</td>\n",
              "      <td>North America</td>\n",
              "      <td>Mexico city</td>\n",
              "      <td>19.371887</td>\n",
              "      <td>-99.086624</td>\n",
              "      <td>Hostage Taking (Kidnapping)</td>\n",
              "      <td>0.0</td>\n",
              "      <td>0.0</td>\n",
              "      <td>Nadine Chaval, daughter</td>\n",
              "      <td>NaN</td>\n",
              "      <td>23rd of September Communist League</td>\n",
              "      <td>Government (Diplomatic)</td>\n",
              "      <td>Unknown</td>\n",
              "      <td>NaN</td>\n",
              "    </tr>\n",
              "    <tr>\n",
              "      <th>2</th>\n",
              "      <td>1970</td>\n",
              "      <td>1</td>\n",
              "      <td>0</td>\n",
              "      <td>0</td>\n",
              "      <td>Philippines</td>\n",
              "      <td>Tarlac</td>\n",
              "      <td>Southeast Asia</td>\n",
              "      <td>Unknown</td>\n",
              "      <td>15.478598</td>\n",
              "      <td>120.599741</td>\n",
              "      <td>Assassination</td>\n",
              "      <td>1.0</td>\n",
              "      <td>0.0</td>\n",
              "      <td>Employee</td>\n",
              "      <td>NaN</td>\n",
              "      <td>Unknown</td>\n",
              "      <td>Journalists &amp; Media</td>\n",
              "      <td>Unknown</td>\n",
              "      <td>NaN</td>\n",
              "    </tr>\n",
              "    <tr>\n",
              "      <th>3</th>\n",
              "      <td>1970</td>\n",
              "      <td>1</td>\n",
              "      <td>0</td>\n",
              "      <td>0</td>\n",
              "      <td>Greece</td>\n",
              "      <td>Attica</td>\n",
              "      <td>Western Europe</td>\n",
              "      <td>Athens</td>\n",
              "      <td>37.997490</td>\n",
              "      <td>23.762728</td>\n",
              "      <td>Bombing/Explosion</td>\n",
              "      <td>NaN</td>\n",
              "      <td>NaN</td>\n",
              "      <td>U.S. Embassy</td>\n",
              "      <td>NaN</td>\n",
              "      <td>Unknown</td>\n",
              "      <td>Government (Diplomatic)</td>\n",
              "      <td>Explosives</td>\n",
              "      <td>NaN</td>\n",
              "    </tr>\n",
              "    <tr>\n",
              "      <th>4</th>\n",
              "      <td>1970</td>\n",
              "      <td>1</td>\n",
              "      <td>0</td>\n",
              "      <td>0</td>\n",
              "      <td>Japan</td>\n",
              "      <td>Fukouka</td>\n",
              "      <td>East Asia</td>\n",
              "      <td>Fukouka</td>\n",
              "      <td>33.580412</td>\n",
              "      <td>130.396361</td>\n",
              "      <td>Facility/Infrastructure Attack</td>\n",
              "      <td>NaN</td>\n",
              "      <td>NaN</td>\n",
              "      <td>U.S. Consulate</td>\n",
              "      <td>NaN</td>\n",
              "      <td>Unknown</td>\n",
              "      <td>Government (Diplomatic)</td>\n",
              "      <td>Incendiary</td>\n",
              "      <td>NaN</td>\n",
              "    </tr>\n",
              "  </tbody>\n",
              "</table>\n",
              "</div>"
            ],
            "text/plain": [
              "   Year  Month  Extended  Day             Country    State  \\\n",
              "0  1970      7         0    2  Dominican Republic      NaN   \n",
              "1  1970      0         0    0              Mexico  Federal   \n",
              "2  1970      1         0    0         Philippines   Tarlac   \n",
              "3  1970      1         0    0              Greece   Attica   \n",
              "4  1970      1         0    0               Japan  Fukouka   \n",
              "\n",
              "                        Region           City   Latitude   Longitude  \\\n",
              "0  Central America & Caribbean  Santo Domingo  18.456792  -69.951164   \n",
              "1                North America    Mexico city  19.371887  -99.086624   \n",
              "2               Southeast Asia        Unknown  15.478598  120.599741   \n",
              "3               Western Europe         Athens  37.997490   23.762728   \n",
              "4                    East Asia        Fukouka  33.580412  130.396361   \n",
              "\n",
              "                       AttackType  Killed  Wounded                   Target  \\\n",
              "0                   Assassination     1.0      0.0             Julio Guzman   \n",
              "1     Hostage Taking (Kidnapping)     0.0      0.0  Nadine Chaval, daughter   \n",
              "2                   Assassination     1.0      0.0                 Employee   \n",
              "3               Bombing/Explosion     NaN      NaN             U.S. Embassy   \n",
              "4  Facility/Infrastructure Attack     NaN      NaN           U.S. Consulate   \n",
              "\n",
              "  Summary                               Group                  Target_type  \\\n",
              "0     NaN                              MANO-D  Private Citizens & Property   \n",
              "1     NaN  23rd of September Communist League      Government (Diplomatic)   \n",
              "2     NaN                             Unknown          Journalists & Media   \n",
              "3     NaN                             Unknown      Government (Diplomatic)   \n",
              "4     NaN                             Unknown      Government (Diplomatic)   \n",
              "\n",
              "  Weapon_type Motive  \n",
              "0     Unknown    NaN  \n",
              "1     Unknown    NaN  \n",
              "2     Unknown    NaN  \n",
              "3  Explosives    NaN  \n",
              "4  Incendiary    NaN  "
            ]
          },
          "metadata": {
            "tags": []
          },
          "execution_count": 79
        }
      ]
    },
    {
      "cell_type": "code",
      "metadata": {
        "id": "ymNA7pBPYYEN"
      },
      "source": [
        ""
      ],
      "execution_count": null,
      "outputs": []
    },
    {
      "cell_type": "markdown",
      "metadata": {
        "id": "mQ-l0PebYYEN"
      },
      "source": [
        "#### Step:3  finding correlations between the columns and visualising using heatmaps"
      ]
    },
    {
      "cell_type": "code",
      "metadata": {
        "id": "InrKL-TVYYEO",
        "outputId": "302377e5-3b32-4717-fdce-2dcfe3a97e2a"
      },
      "source": [
        "plt.figure(figsize=(10,5))\n",
        "sns.heatmap(df.corr() , annot = True)\n",
        "plt.show()"
      ],
      "execution_count": null,
      "outputs": [
        {
          "output_type": "display_data",
          "data": {
            "image/png": "[encoded data removed]",
            "text/plain": [
              "<Figure size 720x360 with 2 Axes>"
            ]
          },
          "metadata": {
            "tags": [],
            "needs_background": "light"
          }
        }
      ]
    },
    {
      "cell_type": "markdown",
      "metadata": {
        "id": "XFVjfI4bYYEO"
      },
      "source": [
        "### Q. Top 10 most affected countries (Terrorist attacks)"
      ]
    },
    {
      "cell_type": "code",
      "metadata": {
        "id": "JnRCd1l0YYEP",
        "outputId": "b71f432e-5261-452d-b30b-652757d3d641"
      },
      "source": [
        "print(\"Top 10 most affected countries are:\\n\", df[\"Country\"].value_counts().head(10))"
      ],
      "execution_count": null,
      "outputs": [
        {
          "output_type": "stream",
          "text": [
            "Top 10 most affected countries are:\n",
            " Iraq              24636\n",
            "Pakistan          14368\n",
            "Afghanistan       12731\n",
            "India             11960\n",
            "Colombia           8306\n",
            "Philippines        6908\n",
            "Peru               6096\n",
            "El Salvador        5320\n",
            "United Kingdom     5235\n",
            "Turkey             4292\n",
            "Name: Country, dtype: int64\n"
          ],
          "name": "stdout"
        }
      ]
    },
    {
      "cell_type": "code",
      "metadata": {
        "id": "T7e3IM0UYYEP",
        "outputId": "ae2e644c-9b4f-4d36-9975-79033e9cc68d"
      },
      "source": [
        "plt.figure(figsize=(10,5))\n",
        "sns.barplot(df[\"Country\"].value_counts()[:10].index, df[\"Country\"].value_counts()[:10].values, palette=\"rocket\")\n",
        "plt.title(\"Top 10 affected countries\")\n",
        "plt.xlabel('Countries')\n",
        "plt.ylabel('Count')\n",
        "plt.xticks(rotation= 60)\n",
        "plt.show()"
      ],
      "execution_count": null,
      "outputs": [
        {
          "output_type": "display_data",
          "data": {
            "image/png": "[encoded data removed]",
            "text/plain": [
              "<Figure size 720x360 with 1 Axes>"
            ]
          },
          "metadata": {
            "tags": [],
            "needs_background": "light"
          }
        }
      ]
    },
    {
      "cell_type": "markdown",
      "metadata": {
        "id": "XZWgx28DYYEQ"
      },
      "source": [
        "#### From the above result we can say that \"Iraq\" is the most affected country. "
      ]
    },
    {
      "cell_type": "markdown",
      "metadata": {
        "id": "8J9Z65LiYYEQ"
      },
      "source": [
        "### Q. Top 10 Worst hit States."
      ]
    },
    {
      "cell_type": "code",
      "metadata": {
        "id": "MHVE80KgYYEQ",
        "outputId": "8665c707-ecc9-451a-f2d4-d8a9b1f4972c"
      },
      "source": [
        "print(\"Top 10 most hit States are:\\n\", df[\"State\"].value_counts().head(10))"
      ],
      "execution_count": null,
      "outputs": [
        {
          "output_type": "stream",
          "text": [
            "Top 10 most hit States are:\n",
            " Baghdad               7645\n",
            "Northern Ireland      4498\n",
            "Unknown               4290\n",
            "Balochistan           3710\n",
            "Saladin               3411\n",
            "Al Anbar              3299\n",
            "Nineveh               3241\n",
            "Sindh                 3206\n",
            "Khyber Pakhtunkhwa    3084\n",
            "Diyala                3041\n",
            "Name: State, dtype: int64\n"
          ],
          "name": "stdout"
        }
      ]
    },
    {
      "cell_type": "code",
      "metadata": {
        "id": "6svavtGVYYER",
        "outputId": "ebc5fa6a-b4e7-43b0-e4c8-d4448733d841"
      },
      "source": [
        "plt.figure(figsize=(10,5))\n",
        "sns.barplot(df[\"State\"].value_counts()[:10].index , df[\"State\"].value_counts()[:10].values , palette=\"YlOrRd_r\" )\n",
        "plt.title('Top 10 worts hit States ')\n",
        "plt.xlabel('States')\n",
        "plt.ylabel('Count')\n",
        "plt.xticks(rotation= 60)\n",
        "plt.show()"
      ],
      "execution_count": null,
      "outputs": [
        {
          "output_type": "display_data",
          "data": {
            "image/png": "[encoded data removed]",
            "text/plain": [
              "<Figure size 720x360 with 1 Axes>"
            ]
          },
          "metadata": {
            "tags": [],
            "needs_background": "light"
          }
        }
      ]
    },
    {
      "cell_type": "markdown",
      "metadata": {
        "id": "nGALAR1PYYER"
      },
      "source": [
        "#### From the above result we can say that \"Baghdad\" is the most affected state."
      ]
    },
    {
      "cell_type": "markdown",
      "metadata": {
        "id": "70mjHfwmYYER"
      },
      "source": [
        "### Q.  Top 10 cities with most attacks."
      ]
    },
    {
      "cell_type": "code",
      "metadata": {
        "id": "czyDj6dWYYES",
        "outputId": "10bc2487-e197-4fb0-cc64-f71bfb579841"
      },
      "source": [
        "print(\"Top 10 most hit Cities are:\\n\", df[\"City\"].value_counts().head(10))"
      ],
      "execution_count": null,
      "outputs": [
        {
          "output_type": "stream",
          "text": [
            "Top 10 most hit Cities are:\n",
            " Unknown         9775\n",
            "Baghdad         7589\n",
            "Karachi         2652\n",
            "Lima            2359\n",
            "Mosul           2265\n",
            "Belfast         2171\n",
            "Santiago        1621\n",
            "Mogadishu       1581\n",
            "San Salvador    1558\n",
            "Istanbul        1048\n",
            "Name: City, dtype: int64\n"
          ],
          "name": "stdout"
        }
      ]
    },
    {
      "cell_type": "code",
      "metadata": {
        "id": "a-JfTy0jYYES",
        "outputId": "1eb597b6-a7e7-4f11-8220-04e038d0a2aa"
      },
      "source": [
        "plt.figure(figsize=(10,5))\n",
        "sns.barplot(df[\"City\"].value_counts()[:10].index , df[\"City\"].value_counts()[:10].values , palette=\"RdPu_r\" )\n",
        "plt.title('Top 10 worst hit Cities ')\n",
        "plt.xlabel('Cities')\n",
        "plt.ylabel('Count')\n",
        "plt.xticks(rotation= 60)\n",
        "plt.show()"
      ],
      "execution_count": null,
      "outputs": [
        {
          "output_type": "display_data",
          "data": {
            "image/png": "[encoded data removed]",
            "text/plain": [
              "<Figure size 720x360 with 1 Axes>"
            ]
          },
          "metadata": {
            "tags": [],
            "needs_background": "light"
          }
        }
      ]
    },
    {
      "cell_type": "markdown",
      "metadata": {
        "id": "Ze4vcjWMYYET"
      },
      "source": [
        "#### From the above result we can say that \"Baghdad\" is the most affected city."
      ]
    },
    {
      "cell_type": "markdown",
      "metadata": {
        "id": "3bLl2dhlYYET"
      },
      "source": [
        "### Q. Worst hit Region"
      ]
    },
    {
      "cell_type": "code",
      "metadata": {
        "id": "bwk6pX98YYET",
        "outputId": "d31dd96e-6891-421b-edc4-4e8747f70da1"
      },
      "source": [
        "print(\"Top 10 worst hit Regions are:\\n\", df[\"Region\"].value_counts().head(10))"
      ],
      "execution_count": null,
      "outputs": [
        {
          "output_type": "stream",
          "text": [
            "Top 10 worst hit Regions are:\n",
            " Middle East & North Africa     50474\n",
            "South Asia                     44974\n",
            "South America                  18978\n",
            "Sub-Saharan Africa             17550\n",
            "Western Europe                 16639\n",
            "Southeast Asia                 12485\n",
            "Central America & Caribbean    10344\n",
            "Eastern Europe                  5144\n",
            "North America                   3456\n",
            "East Asia                        802\n",
            "Name: Region, dtype: int64\n"
          ],
          "name": "stdout"
        }
      ]
    },
    {
      "cell_type": "code",
      "metadata": {
        "id": "pNN4Y2X6YYET",
        "outputId": "a05afd08-6523-4fea-8eeb-215f4d15899c"
      },
      "source": [
        "plt.figure(figsize=(10,5))\n",
        "sns.barplot(df[\"Region\"].value_counts()[:10].index , df[\"Region\"].value_counts()[:10].values , palette=\"ocean\" )\n",
        "plt.title('Top 10 worst hit Regions ')\n",
        "plt.xlabel('Region')\n",
        "plt.ylabel('Count')\n",
        "plt.xticks(rotation= 70)\n",
        "plt.show()"
      ],
      "execution_count": null,
      "outputs": [
        {
          "output_type": "display_data",
          "data": {
            "image/png": "[encoded data removed]",
            "text/plain": [
              "<Figure size 720x360 with 1 Axes>"
            ]
          },
          "metadata": {
            "tags": [],
            "needs_background": "light"
          }
        }
      ]
    },
    {
      "cell_type": "markdown",
      "metadata": {
        "id": "2-hElHZBYYEU"
      },
      "source": [
        "#### From the above result we can say that \"Middle East & North Africa\" is the most affected Region."
      ]
    },
    {
      "cell_type": "markdown",
      "metadata": {
        "id": "VrcAV-1XYYEU"
      },
      "source": [
        "### Q. Worst hit year."
      ]
    },
    {
      "cell_type": "code",
      "metadata": {
        "id": "i-kBp3MuYYEV",
        "outputId": "0978a22f-e003-408a-fe7e-eba2401aacf4"
      },
      "source": [
        "print(\"Top 10 worst hit years are:\\n\", df[\"Year\"].value_counts().head(10))"
      ],
      "execution_count": null,
      "outputs": [
        {
          "output_type": "stream",
          "text": [
            "Top 10 worst hit Regions are:\n",
            " 2014    16903\n",
            "2015    14965\n",
            "2016    13587\n",
            "2013    12036\n",
            "2017    10900\n",
            "2012     8522\n",
            "2011     5076\n",
            "1992     5071\n",
            "2010     4826\n",
            "2008     4805\n",
            "Name: Year, dtype: int64\n"
          ],
          "name": "stdout"
        }
      ]
    },
    {
      "cell_type": "code",
      "metadata": {
        "id": "528VkwJaYYEV",
        "outputId": "be2e2aae-2847-490a-c6c9-744d32ebae72"
      },
      "source": [
        "plt.figure(figsize=(10,5))\n",
        "sns.barplot(df[\"Year\"].value_counts()[:10].index , df[\"Year\"].value_counts()[:10].values , palette=\"rocket_r\" )\n",
        "plt.title('Top 10 worst hit Years ')\n",
        "plt.xlabel('Years')\n",
        "plt.ylabel('Count')\n",
        "plt.xticks(rotation= 70)\n",
        "plt.show()"
      ],
      "execution_count": null,
      "outputs": [
        {
          "output_type": "display_data",
          "data": {
            "image/png": "[encoded data removed]",
            "text/plain": [
              "<Figure size 720x360 with 1 Axes>"
            ]
          },
          "metadata": {
            "tags": [],
            "needs_background": "light"
          }
        }
      ]
    },
    {
      "cell_type": "markdown",
      "metadata": {
        "id": "VCMIltdwYYEV"
      },
      "source": [
        "#### From the above result we can say that \"2014\" is the most affected year."
      ]
    },
    {
      "cell_type": "markdown",
      "metadata": {
        "id": "IO9i_VkaYYEW"
      },
      "source": [
        "### Q. Frequent attack types."
      ]
    },
    {
      "cell_type": "code",
      "metadata": {
        "id": "yWTur6OUYYEW",
        "outputId": "b8203f5f-dd82-4c55-be50-558fbd143214"
      },
      "source": [
        "print(\"Frequent attack types are:\\n\", df[\"AttackType\"].value_counts().head(10))"
      ],
      "execution_count": null,
      "outputs": [
        {
          "output_type": "stream",
          "text": [
            "Frequent attack types are:\n",
            " Bombing/Explosion                      88255\n",
            "Armed Assault                          42669\n",
            "Assassination                          19312\n",
            "Hostage Taking (Kidnapping)            11158\n",
            "Facility/Infrastructure Attack         10356\n",
            "Unknown                                 7276\n",
            "Unarmed Assault                         1015\n",
            "Hostage Taking (Barricade Incident)      991\n",
            "Hijacking                                659\n",
            "Name: AttackType, dtype: int64\n"
          ],
          "name": "stdout"
        }
      ]
    },
    {
      "cell_type": "code",
      "metadata": {
        "id": "L4ECCd43YYEW",
        "outputId": "491bc053-e72c-4eda-ac77-b7578e09eee3"
      },
      "source": [
        "plt.figure(figsize=(10,5))\n",
        "sns.barplot(df[\"AttackType\"].value_counts()[:10].index , df[\"AttackType\"].value_counts()[:10].values , palette=\"magma\" )\n",
        "plt.title(' Most frequent Attack Types ')\n",
        "plt.xlabel('attack types')\n",
        "plt.ylabel('Count')\n",
        "plt.xticks(rotation= 70)\n",
        "plt.show()"
      ],
      "execution_count": null,
      "outputs": [
        {
          "output_type": "display_data",
          "data": {
            "image/png": "[encoded data removed]",
            "text/plain": [
              "<Figure size 720x360 with 1 Axes>"
            ]
          },
          "metadata": {
            "tags": [],
            "needs_background": "light"
          }
        }
      ]
    },
    {
      "cell_type": "markdown",
      "metadata": {
        "id": "0efKFuoxYYEX"
      },
      "source": [
        "#### From the above result we can say that \"Bombing/ Explosion\" is the most frequent attacking type."
      ]
    },
    {
      "cell_type": "markdown",
      "metadata": {
        "id": "QUHziDTNYYEY"
      },
      "source": [
        "### Q. Top 10 Groups invovled in past terrorist activity."
      ]
    },
    {
      "cell_type": "code",
      "metadata": {
        "id": "JY57YbH5YYEY",
        "outputId": "e0aab7f2-2e17-4c5c-9360-2c5141a1ccfe"
      },
      "source": [
        "print(\"Group with the most attacks:\\n\",df['Group'].value_counts().head(10))"
      ],
      "execution_count": null,
      "outputs": [
        {
          "output_type": "stream",
          "text": [
            "Group with the most attacks:\n",
            " Unknown                                             82782\n",
            "Taliban                                              7478\n",
            "Islamic State of Iraq and the Levant (ISIL)          5613\n",
            "Shining Path (SL)                                    4555\n",
            "Farabundo Marti National Liberation Front (FMLN)     3351\n",
            "Al-Shabaab                                           3288\n",
            "New People's Army (NPA)                              2772\n",
            "Irish Republican Army (IRA)                          2671\n",
            "Revolutionary Armed Forces of Colombia (FARC)        2487\n",
            "Boko Haram                                           2418\n",
            "Name: Group, dtype: int64\n"
          ],
          "name": "stdout"
        }
      ]
    },
    {
      "cell_type": "code",
      "metadata": {
        "id": "-3u3DQFjYYEZ",
        "outputId": "35d63a9c-2ec9-4d8e-ebf5-b70f3fc75e42"
      },
      "source": [
        "plt.figure(figsize=(10,5))\n",
        "sns.barplot(df[\"Group\"].value_counts()[:10].index , df[\"Group\"].value_counts()[:10].values , palette=\"ch:s=-.2,r=.6_r\" )\n",
        "plt.title(' Group with the most attacks')\n",
        "plt.xlabel('Group ')\n",
        "plt.ylabel('Count')\n",
        "plt.xticks(rotation= 70)\n",
        "plt.show()"
      ],
      "execution_count": null,
      "outputs": [
        {
          "output_type": "display_data",
          "data": {
            "image/png": "[encoded data removed]",
            "text/plain": [
              "<Figure size 720x360 with 1 Axes>"
            ]
          },
          "metadata": {
            "tags": [],
            "needs_background": "light"
          }
        }
      ]
    },
    {
      "cell_type": "markdown",
      "metadata": {
        "id": "LMrtqI3JYYEa"
      },
      "source": [
        "#### From the above result we can say that \"Taliban\" is the most frequent attacking group."
      ]
    },
    {
      "cell_type": "markdown",
      "metadata": {
        "id": "0o1nZt7SYYEa"
      },
      "source": [
        "### Q. Most used weapon."
      ]
    },
    {
      "cell_type": "code",
      "metadata": {
        "id": "aqwXCDLuYYEb",
        "outputId": "93ff6fb5-8a7b-4f0a-e570-be77c56f4fab"
      },
      "source": [
        "print(\"Most used weapons are:\\n\",df['Weapon_type'].value_counts().head(10))"
      ],
      "execution_count": null,
      "outputs": [
        {
          "output_type": "stream",
          "text": [
            "Most used weapons are:\n",
            " Explosives                                                                     92426\n",
            "Firearms                                                                       58524\n",
            "Unknown                                                                        15157\n",
            "Incendiary                                                                     11135\n",
            "Melee                                                                           3655\n",
            "Chemical                                                                         321\n",
            "Sabotage Equipment                                                               141\n",
            "Vehicle (not to include vehicle-borne explosives, i.e., car or truck bombs)      136\n",
            "Other                                                                            114\n",
            "Biological                                                                        35\n",
            "Name: Weapon_type, dtype: int64\n"
          ],
          "name": "stdout"
        }
      ]
    },
    {
      "cell_type": "code",
      "metadata": {
        "id": "xP-oarnGYYEb",
        "outputId": "de92fddb-28ec-4256-fac1-045b59d59b7b"
      },
      "source": [
        "plt.figure(figsize=(10,5))\n",
        "sns.barplot(df[\"Weapon_type\"].value_counts()[:10].index , df[\"Weapon_type\"].value_counts()[:10].values , palette=\"ocean\" )\n",
        "plt.title('Most used weapons')\n",
        "plt.xlabel('Weapon ')\n",
        "plt.ylabel('Count')\n",
        "plt.xticks(rotation= 70)\n",
        "plt.show()"
      ],
      "execution_count": null,
      "outputs": [
        {
          "output_type": "display_data",
          "data": {
            "image/png": "[encoded data removed]",
            "text/plain": [
              "<Figure size 720x360 with 1 Axes>"
            ]
          },
          "metadata": {
            "tags": [],
            "needs_background": "light"
          }
        }
      ]
    },
    {
      "cell_type": "markdown",
      "metadata": {
        "id": "vq7DYkXcYYEc"
      },
      "source": [
        "#### From the above result we can say that \"Explosives\" is the most used weapon."
      ]
    },
    {
      "cell_type": "markdown",
      "metadata": {
        "id": "VwMKjH1bYYEc"
      },
      "source": [
        "### Q. Killed VS Wounded"
      ]
    },
    {
      "cell_type": "code",
      "metadata": {
        "id": "-zOyjYWWYYEc",
        "outputId": "b4abc543-86f8-4cf2-acc4-b1498290272e"
      },
      "source": [
        "\n",
        "sns.relplot(x='Killed', y='Wounded', hue='Region',data=df)"
      ],
      "execution_count": null,
      "outputs": [
        {
          "output_type": "execute_result",
          "data": {
            "text/plain": [
              "<seaborn.axisgrid.FacetGrid at 0x2606274e1c8>"
            ]
          },
          "metadata": {
            "tags": []
          },
          "execution_count": 207
        },
        {
          "output_type": "display_data",
          "data": {
            "image/png": "[encoded data removed]",
            "text/plain": [
              "<Figure size 542x360 with 1 Axes>"
            ]
          },
          "metadata": {
            "tags": [],
            "needs_background": "light"
          }
        }
      ]
    },
    {
      "cell_type": "code",
      "metadata": {
        "id": "GJYVDry6YYEc"
      },
      "source": [
        ""
      ],
      "execution_count": null,
      "outputs": []
    }
  ]
}